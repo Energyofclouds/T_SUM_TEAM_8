{
 "cells": [
  {
   "cell_type": "code",
   "execution_count": 2,
   "id": "c06d1ef4",
   "metadata": {},
   "outputs": [],
   "source": [
    "from sklearn.datasets import fetch_openml\n",
    "import numpy as np\n",
    "mnist = fetch_openml('mnist_784', version= 1, cache=True)\n",
    "\n",
    "\n",
    "mnist.target = mnist.target.astype(np.int8)\n",
    "X = mnist.data\n",
    "y = mnist.target\n",
    "\n",
    "from sklearn.model_selection import train_test_split\n",
    "from torch.utils.data import TensorDataset, DataLoader\n",
    "\n",
    "X_train, X_test, y_train, y_test = train_test_split(X, y, test_size=1/7, random_state=0)"
   ]
  },
  {
   "cell_type": "code",
   "execution_count": 3,
   "id": "bd4dd77c",
   "metadata": {},
   "outputs": [],
   "source": [
    "import torch\n",
    "\n",
    "X_train = torch.Tensor(X_train.to_numpy())\n",
    "X_test = torch.Tensor(X_test.to_numpy())\n",
    "y_train = torch.LongTensor(y_train.to_numpy())\n",
    "y_test = torch.LongTensor(y_test.to_numpy())\n",
    "\n",
    "ds_train = TensorDataset(X_train, y_train)\n",
    "ds_test = TensorDataset(X_test, y_test)\n",
    "\n",
    "loader_train = DataLoader(ds_train, batch_size=64, shuffle=True)\n",
    "loader_test = DataLoader(ds_test, batch_size=64, shuffle=False)\n",
    "\n",
    "epoch = 10\n"
   ]
  },
  {
   "cell_type": "code",
   "execution_count": 4,
   "id": "7dbc0511",
   "metadata": {},
   "outputs": [
    {
     "name": "stdout",
     "output_type": "stream",
     "text": [
      "cuda\n"
     ]
    }
   ],
   "source": [
    "\n",
    "from torch import nn, optim\n",
    "DEVICE = \"cuda\" if torch.cuda.is_available() else \"cpu\"\n",
    "print(DEVICE)\n",
    "\n",
    "class MLP(nn.Module):\n",
    "    def __init__(self):\n",
    "        super().__init__()\n",
    "        \n",
    "        self.fc1 = nn.Linear(28*28,30)\n",
    "        self.act1 = nn.ReLU()\n",
    "        self.fc2 = nn.Linear(30,10)\n",
    "        \n",
    "        \n",
    "    def forward(self, x):\n",
    "        x = torch.flatten(x, start_dim=1)\n",
    "        x = self.fc1(x)\n",
    "        x = self.act1(x)\n",
    "        x = self.fc2(x)\n",
    "        return x\n",
    "    "
   ]
  },
  {
   "cell_type": "code",
   "execution_count": 5,
   "id": "51c19dd7",
   "metadata": {},
   "outputs": [],
   "source": [
    "model = MLP().to(DEVICE)\n",
    "\n",
    "\n",
    "model_optimizer = torch.optim.Adam(model.parameters())\n",
    "model_loss = nn.CrossEntropyLoss()\n",
    "\n"
   ]
  },
  {
   "cell_type": "code",
   "execution_count": 6,
   "id": "acd9973e",
   "metadata": {},
   "outputs": [
    {
     "name": "stderr",
     "output_type": "stream",
     "text": [
      "100%|███████████████████████████████████████████████████████████████████████████████| 938/938 [00:05<00:00, 179.77it/s]\n"
     ]
    },
    {
     "name": "stdout",
     "output_type": "stream",
     "text": [
      "Epoch: 1, train loss: 0.876\n",
      "--------------------------------------------------\n",
      "\n",
      "\n"
     ]
    },
    {
     "name": "stderr",
     "output_type": "stream",
     "text": [
      "100%|███████████████████████████████████████████████████████████████████████████████| 938/938 [00:02<00:00, 396.82it/s]\n"
     ]
    },
    {
     "name": "stdout",
     "output_type": "stream",
     "text": [
      "Epoch: 2, train loss: 0.317\n",
      "--------------------------------------------------\n",
      "\n",
      "\n"
     ]
    },
    {
     "name": "stderr",
     "output_type": "stream",
     "text": [
      "100%|███████████████████████████████████████████████████████████████████████████████| 938/938 [00:02<00:00, 418.23it/s]\n"
     ]
    },
    {
     "name": "stdout",
     "output_type": "stream",
     "text": [
      "Epoch: 3, train loss: 0.258\n",
      "--------------------------------------------------\n",
      "\n",
      "\n"
     ]
    },
    {
     "name": "stderr",
     "output_type": "stream",
     "text": [
      "100%|███████████████████████████████████████████████████████████████████████████████| 938/938 [00:02<00:00, 394.37it/s]\n"
     ]
    },
    {
     "name": "stdout",
     "output_type": "stream",
     "text": [
      "Epoch: 4, train loss: 0.233\n",
      "--------------------------------------------------\n",
      "\n",
      "\n"
     ]
    },
    {
     "name": "stderr",
     "output_type": "stream",
     "text": [
      "100%|███████████████████████████████████████████████████████████████████████████████| 938/938 [00:02<00:00, 408.43it/s]\n"
     ]
    },
    {
     "name": "stdout",
     "output_type": "stream",
     "text": [
      "Epoch: 5, train loss: 0.217\n",
      "--------------------------------------------------\n",
      "\n",
      "\n"
     ]
    },
    {
     "name": "stderr",
     "output_type": "stream",
     "text": [
      "100%|███████████████████████████████████████████████████████████████████████████████| 938/938 [00:02<00:00, 397.58it/s]\n"
     ]
    },
    {
     "name": "stdout",
     "output_type": "stream",
     "text": [
      "Epoch: 6, train loss: 0.214\n",
      "--------------------------------------------------\n",
      "\n",
      "\n"
     ]
    },
    {
     "name": "stderr",
     "output_type": "stream",
     "text": [
      "100%|███████████████████████████████████████████████████████████████████████████████| 938/938 [00:02<00:00, 406.89it/s]\n"
     ]
    },
    {
     "name": "stdout",
     "output_type": "stream",
     "text": [
      "Epoch: 7, train loss: 0.208\n",
      "--------------------------------------------------\n",
      "\n",
      "\n"
     ]
    },
    {
     "name": "stderr",
     "output_type": "stream",
     "text": [
      "100%|███████████████████████████████████████████████████████████████████████████████| 938/938 [00:02<00:00, 400.93it/s]\n"
     ]
    },
    {
     "name": "stdout",
     "output_type": "stream",
     "text": [
      "Epoch: 8, train loss: 0.2\n",
      "--------------------------------------------------\n",
      "\n",
      "\n"
     ]
    },
    {
     "name": "stderr",
     "output_type": "stream",
     "text": [
      "100%|███████████████████████████████████████████████████████████████████████████████| 938/938 [00:02<00:00, 411.36it/s]\n"
     ]
    },
    {
     "name": "stdout",
     "output_type": "stream",
     "text": [
      "Epoch: 9, train loss: 0.195\n",
      "--------------------------------------------------\n",
      "\n",
      "\n"
     ]
    },
    {
     "name": "stderr",
     "output_type": "stream",
     "text": [
      "100%|███████████████████████████████████████████████████████████████████████████████| 938/938 [00:02<00:00, 410.52it/s]"
     ]
    },
    {
     "name": "stdout",
     "output_type": "stream",
     "text": [
      "Epoch: 10, train loss: 0.189\n",
      "--------------------------------------------------\n",
      "\n",
      "\n"
     ]
    },
    {
     "name": "stderr",
     "output_type": "stream",
     "text": [
      "\n"
     ]
    }
   ],
   "source": [
    "\n",
    "from tqdm import tqdm\n",
    "\n",
    "def train(model, train_data, epoch, model_optimizer, model_loss):\n",
    "    loss_history = []\n",
    "    model.train()\n",
    "    \n",
    "    for ep in range(epoch):\n",
    "        run_loss = 0\n",
    "        for x_batch, y_batch in tqdm(train_data):\n",
    "            x_batch = x_batch.to(DEVICE)\n",
    "            y_batch = y_batch.to(DEVICE)\n",
    "            outputs = model(x_batch)\n",
    "            loss = model_loss(outputs, y_batch)\n",
    "            model_optimizer.zero_grad()\n",
    "            loss.backward()\n",
    "            model_optimizer.step()\n",
    "            run_loss += loss.item()*x_batch.shape[0]\n",
    "        loss_e = (run_loss/len(train_data.dataset))\n",
    "        loss_history.append(loss_e)\n",
    "        print(f\"Epoch: {ep+1}, train loss: {round(loss_e,3)}\")\n",
    "        print(\"-\"*50)\n",
    "        print(\"\\n\")\n",
    "        \n",
    "    return loss_history\n",
    "        \n",
    "    \n",
    "\n",
    "\n",
    "loss_history = train(model = model, \n",
    "                     train_data = loader_train,\n",
    "                     epoch = epoch,\n",
    "                     model_optimizer = model_optimizer, \n",
    "                     model_loss = model_loss)\n",
    "\n",
    "\n"
   ]
  },
  {
   "cell_type": "code",
   "execution_count": 7,
   "id": "2b027213",
   "metadata": {},
   "outputs": [
    {
     "name": "stderr",
     "output_type": "stream",
     "text": [
      "No artists with labels found to put in legend.  Note that artists whose label start with an underscore are ignored when legend() is called with no argument.\n"
     ]
    },
    {
     "data": {
      "image/png": "[encoded data removed]",
      "text/plain": [
       "<Figure size 640x480 with 1 Axes>"
      ]
     },
     "metadata": {},
     "output_type": "display_data"
    }
   ],
   "source": [
    "import matplotlib.pyplot as plt\n",
    "plt.title('train loss')\n",
    "plt.plot(range(1,epoch+1), loss_history)\n",
    "plt.xlabel('epoch')\n",
    "plt.ylabel('loss')\n",
    "plt.grid()\n",
    "plt.legend()\n",
    "plt.show()\n",
    "\n",
    " "
   ]
  },
  {
   "cell_type": "code",
   "execution_count": 8,
   "id": "a5f60170",
   "metadata": {},
   "outputs": [],
   "source": [
    "def Test(model,test_data):\n",
    "    NoTes = len(test_data.dataset)\n",
    "    model.eval()\n",
    "    with torch.no_grad():\n",
    "        rcorrect = 0\n",
    "        for x_batch, y_batch in test_data:\n",
    "            x_batch = x_batch.to(DEVICE)\n",
    "            y_batch = y_batch.to(DEVICE)\n",
    "            # inference\n",
    "            outputs = model(x_batch)\n",
    "            # accuracy\n",
    "            pred = outputs.argmax(dim=1)\n",
    "            corrects_b = torch.sum(pred == y_batch).item()\n",
    "            rcorrect += corrects_b\n",
    "        test_acc = rcorrect/NoTes * 100\n",
    "    print(f\"Test accuracy: {rcorrect}/{NoTes} ({round(test_acc,1)} %)\")\n",
    "\n",
    "    \n",
    "def count_params(model):\n",
    "    num=0\n",
    "    for param in model.parameters():\n",
    "        if param.requires_grad:\n",
    "            num+=param.numel()\n",
    "    print(num)    \n",
    "    "
   ]
  },
  {
   "cell_type": "code",
   "execution_count": 9,
   "id": "82444b21",
   "metadata": {},
   "outputs": [
    {
     "name": "stdout",
     "output_type": "stream",
     "text": [
      "Test accuracy: 9325/10000 (93.2 %)\n",
      "23860\n"
     ]
    }
   ],
   "source": [
    "Test(model, loader_test)\n",
    "count_params(model)    \n",
    "    "
   ]
  },
  {
   "cell_type": "code",
   "execution_count": null,
   "id": "6b04b3ed",
   "metadata": {},
   "outputs": [],
   "source": []
  }
 ],
 "metadata": {
  "kernelspec": {
   "display_name": "Python 3 (ipykernel)",
   "language": "python",
   "name": "python3"
  },
  "language_info": {
   "codemirror_mode": {
    "name": "ipython",
    "version": 3
   },
   "file_extension": ".py",
   "mimetype": "text/x-python",
   "name": "python",
   "nbconvert_exporter": "python",
   "pygments_lexer": "ipython3",
   "version": "3.9.13"
  }
 },
 "nbformat": 4,
 "nbformat_minor": 5
}
